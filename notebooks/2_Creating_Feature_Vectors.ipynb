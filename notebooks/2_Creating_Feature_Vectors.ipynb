{
  "nbformat": 4,
  "nbformat_minor": 0,
  "metadata": {
    "colab": {
      "provenance": [],
      "toc_visible": true
    },
    "kernelspec": {
      "name": "python3",
      "display_name": "Python 3"
    },
    "language_info": {
      "name": "python"
    }
  },
  "cells": [
    {
      "cell_type": "markdown",
      "source": [
        "# Converting data"
      ],
      "metadata": {
        "id": "RqvZF3lRRfTX"
      }
    },
    {
      "cell_type": "markdown",
      "source": [
        "In general, there are 3 general data types that can be distinguished:\n",
        "\n",
        "*   ```pandas.DataFrame```\n",
        "*   ```numpy.array```\n",
        "*   ```list```\n",
        "\n",
        "It may be necessary to change to and from either of these, depending on the selected featurization method. However, most of the time the selected featurization method will convert from `list` to either `numpy.array` or `pandas.DataFrame`"
      ],
      "metadata": {
        "id": "8-qV75mhRtVB"
      }
    },
    {
      "cell_type": "code",
      "source": [
        "import pandas as pd\n",
        "import numpy as np"
      ],
      "metadata": {
        "id": "PTFRhWsbD3HD"
      },
      "execution_count": null,
      "outputs": []
    },
    {
      "cell_type": "markdown",
      "source": [
        "## Dataframes\n",
        "Converting to pandas Dataframes"
      ],
      "metadata": {
        "id": "9i9oh6tiC2a2"
      }
    },
    {
      "cell_type": "code",
      "source": [
        "'''1D Arrays to Dataframe'''\n",
        "Dataframe = pd.DataFrame(np.vstack((array_1,array_2,...)).T, columns = ['Column 1','Column 2', '...'])\n",
        "\n",
        "'''2D Array to Dataframe'''\n",
        "Dataframe = pd.DataFrame(array_2D, columns = ['Column 1', 'Column 2', '...'])\n",
        "\n",
        "'''List to Dataframe'''\n",
        "Dataframe = pd.DataFrame(list_1, columns = ['Column 1', 'Column 2', '...'])\n",
        "\n",
        "'''Pymatgen to Dataframe'''\n",
        "Dataframe = Structure.as_dataframe() #CAREFUL: Only 1 entry can be converted at a time"
      ],
      "metadata": {
        "id": "2EFjMZU9DAqY"
      },
      "execution_count": null,
      "outputs": []
    },
    {
      "cell_type": "markdown",
      "source": [
        "## Arrays\n",
        "Converting to numpy arrays"
      ],
      "metadata": {
        "id": "pikaKYwJKeHA"
      }
    },
    {
      "cell_type": "code",
      "source": [
        "'''Dataframe to nD Arrays'''\n",
        "Array = Dataframe.to_numpy()\n",
        "\n",
        "'''List to Array'''\n",
        "Array = np.array(list_1)"
      ],
      "metadata": {
        "id": "U05gQtc3nFA1"
      },
      "execution_count": null,
      "outputs": []
    },
    {
      "cell_type": "markdown",
      "source": [
        "# Featurization"
      ],
      "metadata": {
        "id": "XShyYVa9KPJq"
      }
    },
    {
      "cell_type": "markdown",
      "source": [
        "## CBFV\n",
        "*Composition-Based Feature Vectors*"
      ],
      "metadata": {
        "id": "Ok3w_OgVkx8e"
      }
    },
    {
      "cell_type": "markdown",
      "source": [
        "Input Format: chemical formula `pandas.DataFrame`\n",
        "\n",
        "Output Format: `pandas.DataFrame`\n",
        "\n",
        "Uses a lookup table to generate compositional vectors based on \"chemical\" formulae."
      ],
      "metadata": {
        "id": "1Nhz5Avqk14L"
      }
    },
    {
      "cell_type": "code",
      "source": [
        "!pip install CBFV\n",
        "from CBFV import composition\n",
        "import pandas as pd"
      ],
      "metadata": {
        "id": "1DX4epKpw3fM"
      },
      "execution_count": null,
      "outputs": []
    },
    {
      "cell_type": "markdown",
      "source": [
        "Function to generate CBFV vector (which is separated) and combines X and Y into a single vector"
      ],
      "metadata": {
        "id": "_73vdihAQ2U0"
      }
    },
    {
      "cell_type": "code",
      "source": [
        "def gen_CBFV(df,form_col,target_col):\n",
        "    \n",
        "    df_prev = df.copy()\n",
        "    \n",
        "    rename_dict = {form_col: 'formula', target_col: 'target'}\n",
        "    df_prev = df_prev.rename(columns=rename_dict)\n",
        "    #print(df_prev)\n",
        "\n",
        "    X, y, formulae, skipped = composition.generate_features(df_prev, elem_prop='oliynyk',\n",
        "                                                            drop_duplicates=False, \n",
        "                                                            extend_features=False, \n",
        "                                                            sum_feat=True)\n",
        "    print(f'\\n the skipped elements are: {skipped[:15]}...')\n",
        "    \n",
        "    df_CBFV = X.copy()\n",
        "    df_CBFV[target_col] = y\n",
        "    #print(df_CBFV)\n",
        "    \n",
        "    df_CBFV = df_CBFV.set_index(target_col)\n",
        "    return df_CBFV"
      ],
      "metadata": {
        "id": "Wghfkfu1Qv7W"
      },
      "execution_count": null,
      "outputs": []
    },
    {
      "cell_type": "markdown",
      "source": [
        "Identify chemical formula column"
      ],
      "metadata": {
        "id": "DJ6F_z6hQo8a"
      }
    },
    {
      "cell_type": "code",
      "source": [
        "parse_form_str = 'COMP_PARSED FORMULA'\n",
        "\n",
        "'CBFV features (composition-based feature vector)'\n",
        "df_temp = df_import[parse_form_str].copy()\n",
        "df_temp = df_temp.reset_index()\n",
        "\n",
        "df_temp.head()"
      ],
      "metadata": {
        "id": "KfvgrL2CQnBK"
      },
      "execution_count": null,
      "outputs": []
    },
    {
      "cell_type": "markdown",
      "source": [
        "Execute the CBFV function"
      ],
      "metadata": {
        "id": "IgfV3O21Q8Sm"
      }
    },
    {
      "cell_type": "code",
      "source": [
        "feature_vectors = gen_CBFV(df_temp, parse_form_str, 'group')"
      ],
      "metadata": {
        "id": "5tt71eFGRA8G"
      },
      "execution_count": null,
      "outputs": []
    },
    {
      "cell_type": "markdown",
      "source": [
        "## Dscribe"
      ],
      "metadata": {
        "id": "_zLf-A-MDVfw"
      }
    },
    {
      "cell_type": "markdown",
      "source": [
        "### SOAP\n",
        "*Smooth Overlap of Atomic Positions*"
      ],
      "metadata": {
        "id": "7HxrGhBopCr_"
      }
    },
    {
      "cell_type": "markdown",
      "source": [
        "Input Format: **ASE** - `list`\n",
        "\n",
        "Output Format: `numpy.array`\n",
        "\n",
        "Generates large vectors to provide coordinates of the Atomic Positions (~150'000+)"
      ],
      "metadata": {
        "id": "esO0va23vPwa"
      }
    },
    {
      "cell_type": "code",
      "source": [
        "!pip install dscribe\n",
        "from dscribe.descriptors import SOAP\n",
        "import numpy as np"
      ],
      "metadata": {
        "id": "kfRi-YXxpEl6"
      },
      "execution_count": null,
      "outputs": []
    },
    {
      "cell_type": "markdown",
      "source": [
        "function to generate SOAP vector"
      ],
      "metadata": {
        "id": "6zGkLtXNpZXG"
      }
    },
    {
      "cell_type": "code",
      "source": [
        "def gen_SOAP(structures, per=False, rc=5, nm=8, lm=8):\n",
        "    # get chemical species\n",
        "    species = set()\n",
        "    for structure in structures:\n",
        "      species.update(structure.get_chemical_symbols())\n",
        "    # set up descriptor parameters\n",
        "    soap = SOAP(\n",
        "        species=species,\n",
        "        periodic=per,\n",
        "        rcut=rc,\n",
        "        nmax=nm,\n",
        "        lmax=lm,\n",
        "        average=\"outer\",\n",
        "        sparse=False\n",
        "        )\n",
        "    # generate feature vector\n",
        "    array_SOAP = soap.create(structures, n_jobs=1)\n",
        "    return array_SOAP"
      ],
      "metadata": {
        "id": "s1_Ize4Atbv7"
      },
      "execution_count": null,
      "outputs": []
    },
    {
      "cell_type": "markdown",
      "source": [
        "generate feature vectors"
      ],
      "metadata": {
        "id": "-vZPo9sRqOUV"
      }
    },
    {
      "cell_type": "code",
      "source": [
        "feature_vectors = gen_SOAP(structures)"
      ],
      "metadata": {
        "id": "O-qKLTQrqNfW"
      },
      "execution_count": null,
      "outputs": []
    },
    {
      "cell_type": "markdown",
      "source": [
        "### CM\n",
        "*Coulomb Matrix*"
      ],
      "metadata": {
        "id": "USlFwXpNBA8W"
      }
    },
    {
      "cell_type": "markdown",
      "source": [
        "Input Format: `ase.structure`\n",
        "\n",
        "Output Format: `numpy.array`\n",
        "\n",
        "Generates vectors which describe coulombic interactions (~4000+)"
      ],
      "metadata": {
        "id": "mOd5Xl9YBLQ4"
      }
    },
    {
      "cell_type": "code",
      "source": [
        "!pip install dscribe\n",
        "from dscribe.descriptors import CoulombMatrix\n",
        "import numpy as np"
      ],
      "metadata": {
        "id": "kxss4E7bBSGS"
      },
      "execution_count": null,
      "outputs": []
    },
    {
      "cell_type": "markdown",
      "source": [
        "function to generate CM vector"
      ],
      "metadata": {
        "id": "206MDG_cBZKO"
      }
    },
    {
      "cell_type": "code",
      "source": [
        "def gen_CM(structures, an= [1, 8], rc=6.0, nm=8, lm=6):\n",
        "    # get chemical species\n",
        "    species = set()\n",
        "    for structure in structures:\n",
        "      species.update(structure.get_chemical_symbols())\n",
        "    # set up descriptor parameters\n",
        "    atomic_numbers = an\n",
        "    rcut = rc\n",
        "    nmax = nm\n",
        "    lmax = lm\n",
        "    cm = CoulombMatrix(\n",
        "    n_atoms_max=64,\n",
        "    )\n",
        "    # generate feature vector\n",
        "    array_CM = cm.create(structures, n_jobs=1)\n",
        "    return array_CM"
      ],
      "metadata": {
        "id": "TIAVtjNFBai4"
      },
      "execution_count": null,
      "outputs": []
    },
    {
      "cell_type": "markdown",
      "source": [
        "generate feature vectors"
      ],
      "metadata": {
        "id": "A_6BLQBpBb-5"
      }
    },
    {
      "cell_type": "code",
      "source": [
        "feature_vectors = gen_CM(structures)"
      ],
      "metadata": {
        "id": "BEnwl5oZBdVw"
      },
      "execution_count": null,
      "outputs": []
    },
    {
      "cell_type": "markdown",
      "source": [
        "## Matminer\n"
      ],
      "metadata": {
        "id": "WZUqb34LDKV9"
      }
    },
    {
      "cell_type": "markdown",
      "source": [
        "### GSF\n",
        "*Global Symmetry Features*"
      ],
      "metadata": {
        "id": "w4Wyf1LkDf7m"
      }
    },
    {
      "cell_type": "markdown",
      "source": [
        "Input Format: `pymatgen.structure`\n",
        "\n",
        "Output Format: `numpy.array`\n",
        "\n",
        "Generates vectors which describe basic symmetry features (~5)"
      ],
      "metadata": {
        "id": "NsktiRCLD0Pe"
      }
    },
    {
      "cell_type": "code",
      "source": [
        "import pandas as pd\n",
        "import os\n",
        "import pymatgen\n",
        "from pymatgen.core import Structure\n",
        "from matminer.featurizers.structure.symmetry import GlobalSymmetryFeatures"
      ],
      "metadata": {
        "id": "miYJ6UemEMPR"
      },
      "execution_count": null,
      "outputs": []
    },
    {
      "cell_type": "markdown",
      "source": [
        "function to generate GSF vector"
      ],
      "metadata": {
        "id": "td6Pu7myF9hI"
      }
    },
    {
      "cell_type": "code",
      "source": [
        "def gen_GSF(structures):\n",
        "    all_features = ['spacegroup_num', 'crystal_system', 'crystal_system_int', 'is_centrosymmetric', 'n_symmetry_ops']\n",
        "\n",
        "    gsf = GlobalSymmetryFeatures(desired_features=None)\n",
        "\n",
        "    array_GSF = []\n",
        "    for structure in structures:\n",
        "        gsf_feature = gsf.featurize(structure)\n",
        "        array_GSF.append(gsf_feature)\n",
        "    return array_GSF"
      ],
      "metadata": {
        "id": "Z4rgGyMCDtM9"
      },
      "execution_count": null,
      "outputs": []
    },
    {
      "cell_type": "markdown",
      "source": [
        "generate feature vectors"
      ],
      "metadata": {
        "id": "SrYFoulJGANp"
      }
    },
    {
      "cell_type": "code",
      "source": [
        "feature_vectors = gen_GSF(structures)"
      ],
      "metadata": {
        "id": "w-WGk3kZGAiM"
      },
      "execution_count": null,
      "outputs": []
    },
    {
      "cell_type": "markdown",
      "source": [
        "### JarvisCFID\n",
        "*Jarvis Classical Force-Field Inspired Descriptors*"
      ],
      "metadata": {
        "id": "eKRFoPU5GeL7"
      }
    },
    {
      "cell_type": "markdown",
      "source": [
        "Input Format: `pymatgen.structure`\n",
        "\n",
        "Output Format: `numpy.array`\n",
        "\n",
        "Generates vectors which describe a composite of many features (~1500)"
      ],
      "metadata": {
        "id": "h9xRZloPGeL8"
      }
    },
    {
      "cell_type": "code",
      "source": [
        "import pandas as pd\n",
        "import os\n",
        "import pymatgen\n",
        "from pymatgen.core import Structure\n",
        "from matminer.featurizers.structure import JarvisCFID"
      ],
      "metadata": {
        "id": "wxvFqeVoGeL8"
      },
      "execution_count": null,
      "outputs": []
    },
    {
      "cell_type": "markdown",
      "source": [
        "function to generate CFID vector"
      ],
      "metadata": {
        "id": "uNkNuU02GeL8"
      }
    },
    {
      "cell_type": "code",
      "source": [
        "def gen_CFID(structures):\n",
        "    jarvis = JarvisCFID()\n",
        "\n",
        "    array_cfid = []\n",
        "    n = 0\n",
        "    for structure in structures:\n",
        "        try:\n",
        "            cfid_feature = jarvis.featurize(structure)\n",
        "            array_cfid.append(cfid_feature)\n",
        "        except:\n",
        "            n += 1\n",
        "    print(str(n) + \" Operations failed!\")\n",
        "    return array_cfid"
      ],
      "metadata": {
        "id": "tkMg0Q-nGeL8"
      },
      "execution_count": null,
      "outputs": []
    },
    {
      "cell_type": "markdown",
      "source": [
        "generate feature vectors"
      ],
      "metadata": {
        "id": "euJpiJ7EGeL8"
      }
    },
    {
      "cell_type": "code",
      "source": [
        "feature_vectors = gen_GSF(structures)"
      ],
      "metadata": {
        "id": "jW6yCW3jGeL8"
      },
      "execution_count": null,
      "outputs": []
    },
    {
      "cell_type": "markdown",
      "source": [
        "# Data Cleanup"
      ],
      "metadata": {
        "id": "IwI40phPRB8w"
      }
    },
    {
      "cell_type": "markdown",
      "source": [
        "### Clean up unknown values"
      ],
      "metadata": {
        "id": "afdQGy2sRFSW"
      }
    },
    {
      "cell_type": "markdown",
      "source": [
        "drop rows with NaN values in them which where created in the feature generation in a `pandas.DataFrame`"
      ],
      "metadata": {
        "id": "Gic-OKLasje9"
      }
    },
    {
      "cell_type": "code",
      "source": [
        "feat_dataframe = feat_dataframe.dropna(axis=0, how='any')"
      ],
      "metadata": {
        "id": "1jQarp1DRIN5"
      },
      "execution_count": null,
      "outputs": []
    },
    {
      "cell_type": "markdown",
      "source": [
        "drop rows with NaN values in them which where created in the feature generation in a `numpy.array`"
      ],
      "metadata": {
        "id": "QF5EI44Es7wZ"
      }
    },
    {
      "cell_type": "code",
      "source": [
        "feat_array = feat_array[~np.isnan(feat_array).any(axis=1)]"
      ],
      "metadata": {
        "id": "crbd3R0Vs_Q8"
      },
      "execution_count": null,
      "outputs": []
    },
    {
      "cell_type": "markdown",
      "source": [
        "### restrict features and CTE to overlapping entries"
      ],
      "metadata": {
        "id": "_jn1DV6LRURd"
      }
    },
    {
      "cell_type": "code",
      "source": [
        "print(df_import.shape, feat_CBFV.shape)\n",
        "df_labeled = material_group_select(df_import, feat_CBFV.index)"
      ],
      "metadata": {
        "id": "LhiTvph0RTd7"
      },
      "execution_count": null,
      "outputs": []
    },
    {
      "cell_type": "markdown",
      "source": [
        "Comparing two sets of data and adjusting them to the same length"
      ],
      "metadata": {
        "id": "SnfXBwBCRMkA"
      }
    },
    {
      "cell_type": "code",
      "source": [
        "def material_group_select(df,group_list):\n",
        "    '''restrict materials to materials listed in group_list'''\n",
        "    #print(df.head())\n",
        "    df_return = df.copy()\n",
        "    df_return = df_return.loc[group_list]\n",
        "    #print(df.shape,df_return.shape,len(group_list))\n",
        "\n",
        "    print('By restricting dataframe to selected material list:')\n",
        "    compare_rows(df, df_return)\n",
        "    return df_return\n",
        "\n",
        "def compare_rows(df_before,df_after):\n",
        "    # print(f'DataFrame shape before processing: {df_before.shape}')\n",
        "    # print(f'DataFrame shape after processing: {df_after.shape}')\n",
        "    dif_row = df_before.shape[0] - df_after.shape[0]\n",
        "    print(f'\\t you deleted {dif_row} entries')\n"
      ],
      "metadata": {
        "id": "r-23HXBORLpR"
      },
      "execution_count": null,
      "outputs": []
    }
  ]
}