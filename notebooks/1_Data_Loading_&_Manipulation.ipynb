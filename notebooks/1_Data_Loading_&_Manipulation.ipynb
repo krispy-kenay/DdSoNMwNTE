{
  "nbformat": 4,
  "nbformat_minor": 0,
  "metadata": {
    "colab": {
      "provenance": [],
      "collapsed_sections": [],
      "toc_visible": true
    },
    "kernelspec": {
      "name": "python3",
      "display_name": "Python 3"
    },
    "language_info": {
      "name": "python"
    }
  },
  "cells": [
    {
      "cell_type": "markdown",
      "source": [
        "# Loading Data"
      ],
      "metadata": {
        "id": "pMXboVBtSiFI"
      }
    },
    {
      "cell_type": "markdown",
      "source": [
        "## Mounting Google Drive"
      ],
      "metadata": {
        "id": "gJ4CSKcRSkqe"
      }
    },
    {
      "cell_type": "markdown",
      "source": [
        "Mount personal gdrive in colab, doesn't work for Shared folders unfortunately. (Workaround needed)"
      ],
      "metadata": {
        "id": "nnubzmexT74a"
      }
    },
    {
      "cell_type": "code",
      "source": [
        "'''mount gdrive within colab'''\n",
        "from google.colab import drive\n",
        "drive.mount('/content/drive')"
      ],
      "metadata": {
        "id": "ONYn1yKOSo7a"
      },
      "execution_count": null,
      "outputs": []
    },
    {
      "cell_type": "code",
      "source": [
        "'''switch to working directory'''\n",
        "%cd /content/drive/My Drive/Education/2022 HS/Semesterproject/Notebooks"
      ],
      "metadata": {
        "id": "WBUc5CxcS1ku"
      },
      "execution_count": null,
      "outputs": []
    },
    {
      "cell_type": "markdown",
      "source": [
        "## Read directory"
      ],
      "metadata": {
        "id": "pQJhyd7MT7Xk"
      }
    },
    {
      "cell_type": "markdown",
      "source": [
        "When multiple files in a directory need to be loaded. The resulting output is in list format."
      ],
      "metadata": {
        "id": "uoZN0D0YYLvu"
      }
    },
    {
      "cell_type": "markdown",
      "source": [
        "### Method 1"
      ],
      "metadata": {
        "id": "jLpjVerXUM1Q"
      }
    },
    {
      "cell_type": "code",
      "source": [
        "from pathlib import Path"
      ],
      "metadata": {
        "id": "IOaMbFWBXPLm"
      },
      "execution_count": null,
      "outputs": []
    },
    {
      "cell_type": "code",
      "source": [
        "imported_data = []\n",
        "\n",
        "for child in Path('path/').iterdir():\n",
        "  if child.is_file():\n",
        "    print(f\"{child.name}\") #Prints all file names \n",
        "    #INSERT HERE \n",
        "    #filepath = f\"ciffile/{child.name}\"\n",
        "    imported_data.append()"
      ],
      "metadata": {
        "id": "o56xqA0RUONk"
      },
      "execution_count": null,
      "outputs": []
    },
    {
      "cell_type": "markdown",
      "source": [
        "### Method 2"
      ],
      "metadata": {
        "id": "-HiSy7KzXfCL"
      }
    },
    {
      "cell_type": "code",
      "source": [
        "import os"
      ],
      "metadata": {
        "id": "-1axVr6QXg9L"
      },
      "execution_count": null,
      "outputs": []
    },
    {
      "cell_type": "code",
      "source": [
        "folder_path = 'folder'\n",
        "folder_files = os.listdir(cif_path)\n",
        "imported_data = []\n",
        "\n",
        "for files in folder_files:\n",
        "  #INSERT HERE\n",
        "  #filepath = folder_path +'/'+ files\n",
        "  imported_data.append()"
      ],
      "metadata": {
        "id": "wKwJSBmEXtEb"
      },
      "execution_count": null,
      "outputs": []
    },
    {
      "cell_type": "markdown",
      "source": [
        "## Read files"
      ],
      "metadata": {
        "id": "Uzj8i3P-YgAd"
      }
    },
    {
      "cell_type": "markdown",
      "source": [
        "When only individual files need to be loaded, can be combined with the above methods if necessary"
      ],
      "metadata": {
        "id": "AYrGqLExYhxX"
      }
    },
    {
      "cell_type": "markdown",
      "source": [
        "### .csv"
      ],
      "metadata": {
        "id": "R7w5V5lAbBVn"
      }
    },
    {
      "cell_type": "code",
      "source": [
        "import pandas as pd\n",
        "import numpy as np"
      ],
      "metadata": {
        "id": "JfN2qq3hbTZn"
      },
      "execution_count": null,
      "outputs": []
    },
    {
      "cell_type": "markdown",
      "source": [
        "A variety of files can be imported into python. To ensure consistency between different users and operating systems, .csv is the usual choice for data in sheet format (2d array). Commonly pandas is used for this step but numpy offers similar functionality, the method of handling the data is very different between these two approaches however so keep this in mind!"
      ],
      "metadata": {
        "id": "RtYV6u6ObEAk"
      }
    },
    {
      "cell_type": "code",
      "source": [
        "dataframe = pd.read_csv('path/to/file.csv')"
      ],
      "metadata": {
        "id": "nM41dOyLbVil"
      },
      "execution_count": null,
      "outputs": []
    },
    {
      "cell_type": "markdown",
      "source": [
        "Alternative with numpy"
      ],
      "metadata": {
        "id": "fZFPC0g7bzUd"
      }
    },
    {
      "cell_type": "code",
      "source": [
        "dataframe = np.genfromtxt('my_file.csv', delimiter=',')"
      ],
      "metadata": {
        "id": "SXH5IOt_bHjl"
      },
      "execution_count": null,
      "outputs": []
    },
    {
      "cell_type": "markdown",
      "source": [
        "Print out data to get a rough idea whether the data has been succesfully imported"
      ],
      "metadata": {
        "id": "dFpLTcDDfC6r"
      }
    },
    {
      "cell_type": "code",
      "source": [
        "display(dataframe)"
      ],
      "metadata": {
        "id": "hA539-xAfGH1"
      },
      "execution_count": null,
      "outputs": []
    },
    {
      "cell_type": "markdown",
      "source": [
        "### .cif"
      ],
      "metadata": {
        "id": "mdP1Lvp8Y4R2"
      }
    },
    {
      "cell_type": "markdown",
      "source": [
        "Load as ASE (Atomic Simulation Environment)"
      ],
      "metadata": {
        "id": "JvRYwlj2ZBiu"
      }
    },
    {
      "cell_type": "code",
      "source": [
        "!pip install ase\n",
        "import ase.io"
      ],
      "metadata": {
        "id": "IBlu1gyvY_9S"
      },
      "execution_count": null,
      "outputs": []
    },
    {
      "cell_type": "code",
      "source": [
        "structure = ase.io.read(\"path/to/file.cif\")"
      ],
      "metadata": {
        "id": "f2aFhGlMZRq8"
      },
      "execution_count": null,
      "outputs": []
    },
    {
      "cell_type": "markdown",
      "source": [
        "Load as Pymatgen Structure, careful which method is used as Structure & Molecule contain very different information (and will determine what can be featurized later down the line)"
      ],
      "metadata": {
        "id": "Izlbibf3Zs6k"
      }
    },
    {
      "cell_type": "code",
      "source": [
        "!pip install pymatgen\n",
        "from pymatgen.core import Structure,Molecule"
      ],
      "metadata": {
        "id": "IiJ549Q_Zv3x"
      },
      "execution_count": null,
      "outputs": []
    },
    {
      "cell_type": "code",
      "source": [
        "structure = Structure.from_file(\"path/to/file.cif\")\n",
        "molecule = Molecule.from_file(\"path/to/file.cif\")"
      ],
      "metadata": {
        "id": "EEAbeIdHabn4"
      },
      "execution_count": null,
      "outputs": []
    },
    {
      "cell_type": "markdown",
      "source": [
        "# Data Manipulation"
      ],
      "metadata": {
        "id": "nKEjQBKEWlL9"
      }
    },
    {
      "cell_type": "markdown",
      "source": [
        "## Importing libraries"
      ],
      "metadata": {
        "id": "x0PEat1fWteK"
      }
    },
    {
      "cell_type": "code",
      "execution_count": null,
      "metadata": {
        "id": "YCDFFZjzWePN"
      },
      "outputs": [],
      "source": [
        "''' Required if dataframes should be used '''\n",
        "import pandas as pd\n",
        "\n",
        "''' Not required but good to have '''\n",
        "import numpy as np"
      ]
    },
    {
      "cell_type": "markdown",
      "source": [
        "## Manipulating Dataframes"
      ],
      "metadata": {
        "id": "hPpZ-Bnwb1kN"
      }
    },
    {
      "cell_type": "markdown",
      "source": [
        "set a column as index, this will prevent this column from being altered and it will transfer to all sublists. It is useful to think of this as identifying the \"thing\" to which all data in the same row relate to."
      ],
      "metadata": {
        "id": "4nrKWD5WayBh"
      }
    },
    {
      "cell_type": "code",
      "source": [
        "dataframe = dataframe.set_index('index')"
      ],
      "metadata": {
        "id": "uhmSrdOHa2yc"
      },
      "execution_count": null,
      "outputs": []
    },
    {
      "cell_type": "markdown",
      "source": [
        "Manipulating dataframes works differently from numpy, which both expands their functionality but makes them a bit harder to work with."
      ],
      "metadata": {
        "id": "PRuCEMpebteP"
      }
    },
    {
      "cell_type": "code",
      "source": [
        "''' Initializing a dataframe '''\n",
        "dataframe = pd.DataFrame({\"x1\":[\"x\", \"y\", \"x\", \"y\", \"x\", \"x\"],  # Create pandas DataFrame\n",
        "                     \"x2\":range(15, 21),\n",
        "                     \"x3\":[\"a\", \"b\", \"c\", \"d\", \"e\", \"f\"],\n",
        "                     \"x4\":range(20, 8, - 2)})\n",
        "\n",
        "''' Creating a copy (Do this before major alterations)'''\n",
        "dataframe_modified = dataframe.copy()   \n",
        "\n",
        "''' Removing columns '''\n",
        "dataframe_modified = dataframe_modified.drop('column name', axis = 1) # old method\n",
        "dataframe_modified = dataframe_modified.drop(columns = ['column name 1', 'column name 2']) # cleaner method that detects axis automatically\n",
        "\n",
        "''' Add new column with data '''\n",
        "new_list = [a, b, c, d]\n",
        "\n",
        "# this method always adds the new column at the end\n",
        "dataframe_modified['new column name'] = new_list\n",
        "\n",
        "# this method allows position to be chosen of the new data\n",
        "dataframe_modified.insert(pos, 'new column name', new_list, True)\n",
        "\n",
        "''' Merging two frames by column '''\n",
        "dataframe_merged = pd.merge(dataframe,                                # Merge two pandas DataFrames\n",
        "                      new_dataframe,\n",
        "                      on = \"column/index with matching values\",       # can be set to none to combine without overlap\n",
        "                      how = \"outer\")                                  # be careful with this and read up on SQL merging techniques\n",
        "\n",
        "''' Rename columns '''\n",
        "dataframe_modified.columns = ['column name 1', 'column name 2', 'column name 3']\n",
        "\n",
        "''' Remove row '''\n",
        "dataframe_modified = dataframe_modified[dataframe_modified.column1 != \"condition\"]     # Removes rows if \"condition\" is met within column1\n",
        "\n",
        "''' Add new row '''\n",
        "new_row = [a, b, c, d]\n",
        "dataframe_modified = dataframe.loc[6] = new_row\n",
        "\n",
        "''' Merge two frames by rows '''\n",
        "data_append = pd.concat([dataframe,                             # Append DataFrames\n",
        "                        new_rows_dataframe],\n",
        "                        ignore_index = True,\n",
        "                        sort = False)\n",
        "\n",
        "''' Sort rows '''\n",
        "dataframe_sorted = dataframe_sorted.sort_values(\"column by which to sort\")\n",
        "\n",
        "''' Replace data '''\n",
        "dataframe_modified = dataframe_modified.replace('value to be replaced', 'what it should be replaced with')\n",
        "\n",
        "''' drop NaN values '''\n",
        "dataframe_modified = dataframe_modified.dropna(axis=0, how='any')"
      ],
      "metadata": {
        "id": "RJmEEnQxbtCA"
      },
      "execution_count": null,
      "outputs": []
    },
    {
      "cell_type": "markdown",
      "source": [
        "## Manipulating Arrays"
      ],
      "metadata": {
        "id": "wWDVDi6yiX3q"
      }
    },
    {
      "cell_type": "code",
      "source": [],
      "metadata": {
        "id": "iaEdbB3cijj4"
      },
      "execution_count": null,
      "outputs": []
    }
  ]
}