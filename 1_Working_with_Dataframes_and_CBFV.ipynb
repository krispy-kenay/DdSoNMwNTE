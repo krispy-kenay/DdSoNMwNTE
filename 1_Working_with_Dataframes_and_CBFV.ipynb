{
  "nbformat": 4,
  "nbformat_minor": 0,
  "metadata": {
    "colab": {
      "provenance": [],
      "collapsed_sections": [
        "nKEjQBKEWlL9",
        "Ok3w_OgVkx8e"
      ]
    },
    "kernelspec": {
      "name": "python3",
      "display_name": "Python 3"
    },
    "language_info": {
      "name": "python"
    }
  },
  "cells": [
    {
      "cell_type": "markdown",
      "source": [
        "# Dataframes"
      ],
      "metadata": {
        "id": "nKEjQBKEWlL9"
      }
    },
    {
      "cell_type": "markdown",
      "source": [
        "## Importing libraries"
      ],
      "metadata": {
        "id": "x0PEat1fWteK"
      }
    },
    {
      "cell_type": "code",
      "execution_count": null,
      "metadata": {
        "id": "YCDFFZjzWePN"
      },
      "outputs": [],
      "source": [
        "''' Required if dataframes should be used '''\n",
        "import pandas as pd\n",
        "\n",
        "''' Not required but good to have '''\n",
        "import numpy as np"
      ]
    },
    {
      "cell_type": "markdown",
      "source": [
        "## Loading files into memory"
      ],
      "metadata": {
        "id": "sz6hnFYWXO8B"
      }
    },
    {
      "cell_type": "markdown",
      "source": [
        "A variety of files can be imported into python. To ensure consistency between different users and operating systems, .csv is the usual choice for data in sheet format (2d array). Commonly pandas is used for this step but numpy offers similar functionality, the method of handling the data is very different between these two approaches however so keep this in mind!"
      ],
      "metadata": {
        "id": "rHR6DndEXXz9"
      }
    },
    {
      "cell_type": "code",
      "source": [
        "dataframe = pd.read_csv('path/to/file.csv')"
      ],
      "metadata": {
        "id": "fG7JjuaQXUQY"
      },
      "execution_count": null,
      "outputs": []
    },
    {
      "cell_type": "markdown",
      "source": [
        "Print out dataframe to get a rough idea whether the data has been succesfully imported"
      ],
      "metadata": {
        "id": "BABFPjBOarYp"
      }
    },
    {
      "cell_type": "code",
      "source": [
        "display(dataframe)"
      ],
      "metadata": {
        "id": "nExTEV5gaQrc"
      },
      "execution_count": null,
      "outputs": []
    },
    {
      "cell_type": "markdown",
      "source": [
        "set a column as index, this will prevent this column from being altered and it will transfer to all sublists. It is useful to think of this as identifying the \"thing\" to which all data in the same row relate to."
      ],
      "metadata": {
        "id": "4nrKWD5WayBh"
      }
    },
    {
      "cell_type": "code",
      "source": [
        "dataframe = dataframe.set_index('index')"
      ],
      "metadata": {
        "id": "uhmSrdOHa2yc"
      },
      "execution_count": null,
      "outputs": []
    },
    {
      "cell_type": "markdown",
      "source": [
        "## Manipulating Dataframes"
      ],
      "metadata": {
        "id": "hPpZ-Bnwb1kN"
      }
    },
    {
      "cell_type": "markdown",
      "source": [
        "Manipulating dataframes works differently from numpy, which both expands their functionality but makes them a bit harder to work with."
      ],
      "metadata": {
        "id": "PRuCEMpebteP"
      }
    },
    {
      "cell_type": "code",
      "source": [
        "''' Initializing a dataframe '''\n",
        "dataframe = pd.DataFrame({\"x1\":[\"x\", \"y\", \"x\", \"y\", \"x\", \"x\"],  # Create pandas DataFrame\n",
        "                     \"x2\":range(15, 21),\n",
        "                     \"x3\":[\"a\", \"b\", \"c\", \"d\", \"e\", \"f\"],\n",
        "                     \"x4\":range(20, 8, - 2)})\n",
        "\n",
        "''' Creating a copy (Do this before major alterations)'''\n",
        "dataframe_modified = dataframe.copy()   \n",
        "\n",
        "''' Removing columns '''\n",
        "dataframe_modified = dataframe_modified.drop('column name', axis = 1) # old method\n",
        "dataframe_modified = dataframe_modified.drop(columns = ['column name 1', 'column name 2']) # cleaner method that detects axis automatically\n",
        "\n",
        "''' Add new column with data '''\n",
        "new_list = [a, b, c, d]\n",
        "\n",
        "# this method always adds the new column at the end\n",
        "dataframe_modified['new column name'] = new_list\n",
        "\n",
        "# this method allows position to be chosen of the new data\n",
        "dataframe_modified.insert(pos, 'new column name', new_list, True)\n",
        "\n",
        "''' Merging two frames by column '''\n",
        "dataframe_merged = pd.merge(dataframe,                                # Merge two pandas DataFrames\n",
        "                      new_dataframe,\n",
        "                      on = \"column/index with matching values\",       # can be set to none to combine without overlap\n",
        "                      how = \"outer\")                                  # be careful with this and read up on SQL merging techniques\n",
        "\n",
        "''' Rename columns '''\n",
        "dataframe_modified.columns = ['column name 1', 'column name 2', 'column name 3']\n",
        "\n",
        "''' Remove row '''\n",
        "dataframe_modified = dataframe_modified[dataframe_modified.column1 != \"condition\"]     # Removes rows if \"condition\" is met within column1\n",
        "\n",
        "''' Add new row '''\n",
        "new_row = [a, b, c, d]\n",
        "dataframe_modified = dataframe.loc[6] = new_row\n",
        "\n",
        "''' Merge two frames by rows '''\n",
        "data_append = pd.concat([dataframe,                             # Append DataFrames\n",
        "                        new_rows_dataframe],\n",
        "                        ignore_index = True,\n",
        "                        sort = False)\n",
        "\n",
        "''' Sort rows '''\n",
        "dataframe_sorted = dataframe_sorted.sort_values(\"column by which to sort\")\n",
        "\n",
        "''' Replace data '''\n",
        "dataframe_modified = dataframe_modified.replace('value to be replaced', 'what it should be replaced with')\n",
        "\n",
        "''' drop NaN values '''\n",
        "dataframe_modified = dataframe_modified.dropna(axis=0, how='any')"
      ],
      "metadata": {
        "id": "RJmEEnQxbtCA"
      },
      "execution_count": null,
      "outputs": []
    },
    {
      "cell_type": "markdown",
      "source": [
        "# CBFV"
      ],
      "metadata": {
        "id": "Ok3w_OgVkx8e"
      }
    },
    {
      "cell_type": "markdown",
      "source": [
        "composition-based feature vectors, Uses a lookup table to generate compositional vectors based on \"chemical\" formula"
      ],
      "metadata": {
        "id": "1Nhz5Avqk14L"
      }
    },
    {
      "cell_type": "markdown",
      "source": [
        "## Extract Formula in compliant format"
      ],
      "metadata": {
        "id": "DJ6F_z6hQo8a"
      }
    },
    {
      "cell_type": "code",
      "source": [
        "parse_form_str = 'COMP_PARSED FORMULA'\n",
        "\n",
        "'CBFV features (composition-based feature vector)'\n",
        "df_temp = df_import[parse_form_str].copy()\n",
        "df_temp = df_temp.reset_index()\n",
        "\n",
        "df_temp.head()"
      ],
      "metadata": {
        "id": "KfvgrL2CQnBK"
      },
      "execution_count": null,
      "outputs": []
    },
    {
      "cell_type": "markdown",
      "source": [
        "## Execute the CBFV function"
      ],
      "metadata": {
        "id": "IgfV3O21Q8Sm"
      }
    },
    {
      "cell_type": "code",
      "source": [
        "feat_CBFV = gen_CBFV(df_temp, parse_form_str, 'group')\n",
        "display(feat_CBFV)"
      ],
      "metadata": {
        "id": "5tt71eFGRA8G"
      },
      "execution_count": null,
      "outputs": []
    },
    {
      "cell_type": "markdown",
      "source": [
        "## Clean up unknown values"
      ],
      "metadata": {
        "id": "afdQGy2sRFSW"
      }
    },
    {
      "cell_type": "code",
      "source": [
        "'drop NaN which where created in the feature generation'\n",
        "feat_CBFV = feat_CBFV.dropna(axis=0, how='any')"
      ],
      "metadata": {
        "id": "1jQarp1DRIN5"
      },
      "execution_count": null,
      "outputs": []
    },
    {
      "cell_type": "markdown",
      "source": [
        "## restrict features and CTE to overlapping entries"
      ],
      "metadata": {
        "id": "_jn1DV6LRURd"
      }
    },
    {
      "cell_type": "code",
      "source": [
        "print(df_import.shape, feat_CBFV.shape)\n",
        "df_labeled = material_group_select(df_import, feat_CBFV.index)"
      ],
      "metadata": {
        "id": "LhiTvph0RTd7"
      },
      "execution_count": null,
      "outputs": []
    },
    {
      "cell_type": "markdown",
      "source": [
        "## Functions"
      ],
      "metadata": {
        "id": "j3S8XRFhQshL"
      }
    },
    {
      "cell_type": "markdown",
      "source": [
        "Function to generate CBFV vector (which is separated) and combines X and Y into a single vector"
      ],
      "metadata": {
        "id": "_73vdihAQ2U0"
      }
    },
    {
      "cell_type": "code",
      "source": [
        "def gen_CBFV(df,form_col,target_col):\n",
        "    \n",
        "    df_prev = df.copy()\n",
        "    \n",
        "    rename_dict = {form_col: 'formula', target_col: 'target'}\n",
        "    df_prev = df_prev.rename(columns=rename_dict)\n",
        "    #print(df_prev)\n",
        "\n",
        "    X, y, formulae, skipped = composition.generate_features(df_prev, elem_prop='oliynyk',\n",
        "                                                            drop_duplicates=False, \n",
        "                                                            extend_features=False, \n",
        "                                                            sum_feat=True)\n",
        "    print(f'\\n the skipped elements are: {skipped[:15]}...')\n",
        "    \n",
        "    df_CBFV = X.copy()\n",
        "    df_CBFV[target_col] = y\n",
        "    #print(df_CBFV)\n",
        "    \n",
        "    df_CBFV = df_CBFV.set_index(target_col)\n",
        "    return df_CBFV"
      ],
      "metadata": {
        "id": "Wghfkfu1Qv7W"
      },
      "execution_count": null,
      "outputs": []
    },
    {
      "cell_type": "markdown",
      "source": [
        "Comparing two sets of data and adjusting them to the same length"
      ],
      "metadata": {
        "id": "SnfXBwBCRMkA"
      }
    },
    {
      "cell_type": "code",
      "source": [
        "def material_group_select(df,group_list):\n",
        "    '''restrict materials to materials listed in group_list'''\n",
        "    #print(df.head())\n",
        "    df_return = df.copy()\n",
        "    df_return = df_return.loc[group_list]\n",
        "    #print(df.shape,df_return.shape,len(group_list))\n",
        "\n",
        "    print('By restricting dataframe to selected material list:')\n",
        "    compare_rows(df, df_return)\n",
        "    return df_return\n",
        "\n",
        "def compare_rows(df_before,df_after):\n",
        "    # print(f'DataFrame shape before processing: {df_before.shape}')\n",
        "    # print(f'DataFrame shape after processing: {df_after.shape}')\n",
        "    dif_row = df_before.shape[0] - df_after.shape[0]\n",
        "    print(f'\\t you deleted {dif_row} entries')\n"
      ],
      "metadata": {
        "id": "r-23HXBORLpR"
      },
      "execution_count": null,
      "outputs": []
    }
  ]
}