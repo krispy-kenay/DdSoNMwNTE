{
 "cells": [
  {
   "cell_type": "markdown",
   "metadata": {},
   "source": [
    "# Creating Features"
   ]
  },
  {
   "cell_type": "markdown",
   "metadata": {},
   "source": [
    "Importing Libraries"
   ]
  },
  {
   "cell_type": "code",
   "execution_count": 2,
   "metadata": {},
   "outputs": [],
   "source": [
    "import os\n",
    "import numpy as np\n",
    "import pandas as pd\n",
    "from pymatgen.core import Structure\n",
    "\n",
    "# Helper Functions to keep notebook clean\n",
    "import functions as func"
   ]
  },
  {
   "cell_type": "markdown",
   "metadata": {},
   "source": [
    "Define file and folder paths"
   ]
  },
  {
   "cell_type": "code",
   "execution_count": 3,
   "metadata": {},
   "outputs": [],
   "source": [
    "PATH = os.getcwd() + \"/\"\n",
    "\n",
    "data_pickle_CTE = PATH + 'DATA/pickle/data_cte.pkl'"
   ]
  },
  {
   "attachments": {},
   "cell_type": "markdown",
   "metadata": {},
   "source": [
    "Load dataset from previous step"
   ]
  },
  {
   "cell_type": "code",
   "execution_count": 4,
   "metadata": {},
   "outputs": [],
   "source": [
    "df_CTE = pd.read_pickle(data_pickle_CTE)"
   ]
  },
  {
   "cell_type": "code",
   "execution_count": 5,
   "metadata": {},
   "outputs": [],
   "source": [
    "from matminer.featurizers.structure.composite import JarvisCFID\n",
    "from matminer.featurizers.structure.bonding import StructuralHeterogeneity\n",
    "from matminer.featurizers.structure.sites import SiteStatsFingerprint\n",
    "\n",
    "jarvis = JarvisCFID()\n",
    "sthet = StructuralHeterogeneity()\n",
    "ssf = SiteStatsFingerprint.from_preset(\"LocalPropertyDifference_ward-prb-2017\")\n",
    "#ewald = EwaldSiteEnergy()\n",
    "#soap = SOAP(rcut=5, nmax=8, lmax=8)"
   ]
  },
  {
   "cell_type": "code",
   "execution_count": 6,
   "metadata": {},
   "outputs": [],
   "source": [
    "featurizers_list = [jarvis, ssf]\n",
    "\n",
    "data_numpy_jarvis = 'DATA/feat/data_Jarvis_CFID.npy'\n",
    "data_numpy_sthet = 'DATA/feat/data_Structural_Heterogenity.npy'\n",
    "data_numpy_ssf = 'DATA/feat/data_Site_Stats_Fingerprint.npy'"
   ]
  },
  {
   "attachments": {},
   "cell_type": "markdown",
   "metadata": {},
   "source": [
    "Create a list containing featurized arrays"
   ]
  },
  {
   "cell_type": "code",
   "execution_count": 7,
   "metadata": {},
   "outputs": [
    {
     "name": "stdout",
     "output_type": "stream",
     "text": [
      "Progress: [>                   ] 0%\r"
     ]
    }
   ],
   "source": [
    "\n",
    "ff = []\n",
    "for feat in featurizers_list:\n",
    "    n = 0\n",
    "    list_feat = []\n",
    "    x, x_tot = 0, len(df_CTE)\n",
    "    for i in range(len(df_CTE)):\n",
    "        func.progress_bar(x, x_tot)\n",
    "        x += 1\n",
    "        try:\n",
    "            df_temp = pd.DataFrame(df_CTE[['@module','@class','charge','lattice','sites']].iloc[i]).transpose()\n",
    "            struc_dict = df_temp.to_dict(orient='records')\n",
    "            structure = Structure.from_dict(struc_dict[0])\n",
    "            feature = feat.featurize(structure)\n",
    "\n",
    "            prefix = np.array(df_CTE[['idx','dir NTE','dir NTE large','vol NTE']].iloc[i])\n",
    "            feat_ab = np.concatenate((prefix, feature), axis=0)\n",
    "            list_feat.append(feat_ab)\n",
    "        except:\n",
    "            n += 1\n",
    "    print(\"Failed: \" + str(n))\n",
    "    final_feat = np.stack((list_feat[j] for j in range(len(list_feat))))\n",
    "    ff.append(final_feat)\n",
    "\n"
   ]
  },
  {
   "cell_type": "code",
   "execution_count": null,
   "metadata": {},
   "outputs": [],
   "source": [
    "\n",
    "np.save(data_numpy_sthet, final_feat)"
   ]
  }
 ],
 "metadata": {
  "kernelspec": {
   "display_name": "Python 3",
   "language": "python",
   "name": "python3"
  },
  "language_info": {
   "codemirror_mode": {
    "name": "ipython",
    "version": 3
   },
   "file_extension": ".py",
   "mimetype": "text/x-python",
   "name": "python",
   "nbconvert_exporter": "python",
   "pygments_lexer": "ipython3",
   "version": "3.8.10"
  },
  "orig_nbformat": 4,
  "vscode": {
   "interpreter": {
    "hash": "9390045621feb823ba4af5b6ebaa3f354f47709dd0151da338676d8e1b29f7f7"
   }
  }
 },
 "nbformat": 4,
 "nbformat_minor": 2
}
